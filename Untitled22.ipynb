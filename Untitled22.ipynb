{
 "cells": [
  {
   "cell_type": "markdown",
   "id": "5b423514-20de-49cf-99fb-c1b8a421aca8",
   "metadata": {},
   "source": [
    "## Q1. Write a code to print the data present in the second row of the dataframe, df."
   ]
  },
  {
   "cell_type": "code",
   "execution_count": null,
   "id": "3ff4632c-1dd6-46f1-b22b-db658301906e",
   "metadata": {},
   "outputs": [],
   "source": [
    "\n",
    "To print the data present in the second row of a DataFrame df, you can use the iloc indexer to access the row by its numerical index. Here's how you can do it:\n",
    "\n",
    "\n",
    "import pandas as pd\n",
    "\n",
    "# Assuming df is your DataFrame\n",
    "# Example DataFrame\n",
    "data = {'A': [1, 2, 3],\n",
    "        'B': ['a', 'b', 'c'],\n",
    "        'C': [True, False, True]}\n",
    "df = pd.DataFrame(data)\n",
    "\n",
    "# Print the data present in the second row of the DataFrame\n",
    "second_row_data = df.iloc[1]\n",
    "print(\"Data present in the second row:\")\n",
    "print(second_row_data)"
   ]
  },
  {
   "cell_type": "markdown",
   "id": "ac76ffdc-9ac1-4a90-884c-9b0a58d85593",
   "metadata": {},
   "source": [
    "## Q2. What is the difference between the functions loc and iloc in pandas.DataFrame?"
   ]
  },
  {
   "cell_type": "code",
   "execution_count": null,
   "id": "acbc00df-bc0d-4daf-960b-36071ee32527",
   "metadata": {},
   "outputs": [],
   "source": [
    "import pandas as pd\n",
    "\n",
    "# Example DataFrame\n",
    "data = {'A': [1, 2, 3],\n",
    "        'B': ['a', 'b', 'c']}\n",
    "df = pd.DataFrame(data, index=['first', 'second', 'third'])\n",
    "\n",
    "# Accessing data using loc\n",
    "print(\"Using loc:\")\n",
    "print(df.loc['second', 'A'])  # Accessing data by label\n",
    "print(df.loc['second':'third', 'A'])  # Slicing with labels\n",
    "\n",
    "# Accessing data using iloc\n",
    "print(\"\\nUsing iloc:\")\n",
    "print(df.iloc[1, 0])  # Accessing data by index\n",
    "print(df.iloc[1:3, 0])  # Slicing with indices\n",
    "Output:\n",
    "\n",
    "\n",
    "Using loc:\n",
    "2\n",
    "second    2\n",
    "third     3\n",
    "Name: A, dtype: int64\n",
    "\n",
    "Using iloc:\n",
    "2\n",
    "second    2\n",
    "third     3\n",
    "Name: A, dtype: int64"
   ]
  }
 ],
 "metadata": {
  "kernelspec": {
   "display_name": "Python 3 (ipykernel)",
   "language": "python",
   "name": "python3"
  },
  "language_info": {
   "codemirror_mode": {
    "name": "ipython",
    "version": 3
   },
   "file_extension": ".py",
   "mimetype": "text/x-python",
   "name": "python",
   "nbconvert_exporter": "python",
   "pygments_lexer": "ipython3",
   "version": "3.10.8"
  }
 },
 "nbformat": 4,
 "nbformat_minor": 5
}
